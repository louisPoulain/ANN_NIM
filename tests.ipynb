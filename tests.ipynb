{
 "cells": [
  {
   "cell_type": "code",
   "execution_count": 4,
   "id": "d5c5df45-34b6-4bb7-87e3-5addd5c27c7f",
   "metadata": {},
   "outputs": [
    {
     "name": "stdout",
     "output_type": "stream",
     "text": [
      "tensor(10)\n"
     ]
    },
    {
     "data": {
      "text/plain": [
       "2"
      ]
     },
     "execution_count": 4,
     "metadata": {},
     "output_type": "execute_result"
    }
   ],
   "source": [
    "import numpy as np\n",
    "import torch\n",
    "q = torch.tensor([0, 0, 0, 0, 0, 0, 0, 0, 0, 0, 2, 2, 0, 0])\n",
    "t = torch.argmax(q)\n",
    "print(t)\n",
    "torch.floor(t.div(7)) + 1\n",
    "dictr = {'a': 2, 'b': {'c': 3, 'd': 4}}\n",
    "len(dictr['b'])"
   ]
  },
  {
   "cell_type": "code",
   "execution_count": 6,
   "id": "f26a5f7a-bb4f-4ce6-8a70-5814e0aaead8",
   "metadata": {},
   "outputs": [
    {
     "data": {
      "text/plain": [
       "1"
      ]
     },
     "execution_count": 6,
     "metadata": {},
     "output_type": "execute_result"
    }
   ],
   "source": [
    "1 % 2"
   ]
  },
  {
   "cell_type": "code",
   "execution_count": 2,
   "id": "ccc71462-1425-43be-a227-316c129357d8",
   "metadata": {},
   "outputs": [
    {
     "ename": "TypeError",
     "evalue": "str() argument 2 must be str, not int",
     "output_type": "error",
     "traceback": [
      "\u001b[0;31m---------------------------------------------------------------------------\u001b[0m",
      "\u001b[0;31mTypeError\u001b[0m                                 Traceback (most recent call last)",
      "\u001b[0;32m/tmp/ipykernel_42/685318707.py\u001b[0m in \u001b[0;36m<module>\u001b[0;34m\u001b[0m\n\u001b[1;32m      1\u001b[0m \u001b[0mA\u001b[0m \u001b[0;34m=\u001b[0m \u001b[0;34m[\u001b[0m\u001b[0;36m1\u001b[0m\u001b[0;34m,\u001b[0m \u001b[0;36m2\u001b[0m\u001b[0;34m,\u001b[0m \u001b[0;36m3\u001b[0m\u001b[0;34m]\u001b[0m\u001b[0;34m\u001b[0m\u001b[0;34m\u001b[0m\u001b[0m\n\u001b[0;32m----> 2\u001b[0;31m \u001b[0mprint\u001b[0m\u001b[0;34m(\u001b[0m\u001b[0mstr\u001b[0m\u001b[0;34m(\u001b[0m\u001b[0;34m*\u001b[0m\u001b[0mA\u001b[0m\u001b[0;34m)\u001b[0m\u001b[0;34m)\u001b[0m\u001b[0;34m\u001b[0m\u001b[0;34m\u001b[0m\u001b[0m\n\u001b[0m",
      "\u001b[0;31mTypeError\u001b[0m: str() argument 2 must be str, not int"
     ]
    }
   ],
   "source": [
    "A = [1, 2, 3]\n",
    "print(str(*A))"
   ]
  },
  {
   "cell_type": "code",
   "execution_count": 27,
   "id": "e434a997-fa68-4469-8694-7266de823a8f",
   "metadata": {},
   "outputs": [
    {
     "name": "stdout",
     "output_type": "stream",
     "text": [
      "[[0 1]\n",
      " [2 3]]\n"
     ]
    },
    {
     "data": {
      "text/plain": [
       "array([[ 8,  9],\n",
       "       [10, 11]])"
      ]
     },
     "execution_count": 27,
     "metadata": {},
     "output_type": "execute_result"
    }
   ],
   "source": [
    "A = np.arange(12).reshape((3, 2, 2))\n",
    "print(A[0])\n",
    "np.max(A, axis = 0)"
   ]
  },
  {
   "cell_type": "code",
   "execution_count": 30,
   "id": "ddbd3ecd-b1c3-46d3-8e84-bea77966b12b",
   "metadata": {},
   "outputs": [
    {
     "ename": "TypeError",
     "evalue": "cannot unpack non-iterable int object",
     "output_type": "error",
     "traceback": [
      "\u001b[0;31m---------------------------------------------------------------------------\u001b[0m",
      "\u001b[0;31mTypeError\u001b[0m                                 Traceback (most recent call last)",
      "\u001b[0;32m/tmp/ipykernel_132/1312448195.py\u001b[0m in \u001b[0;36m<module>\u001b[0;34m\u001b[0m\n\u001b[0;32m----> 1\u001b[0;31m \u001b[0mi\u001b[0m\u001b[0;34m,\u001b[0m \u001b[0mj\u001b[0m\u001b[0;34m,\u001b[0m \u001b[0mk\u001b[0m \u001b[0;34m=\u001b[0m \u001b[0mint\u001b[0m\u001b[0;34m(\u001b[0m\u001b[0mstr\u001b[0m\u001b[0;34m(\u001b[0m\u001b[0;36m123\u001b[0m\u001b[0;34m)\u001b[0m\u001b[0;34m)\u001b[0m\u001b[0;34m\u001b[0m\u001b[0;34m\u001b[0m\u001b[0m\n\u001b[0m",
      "\u001b[0;31mTypeError\u001b[0m: cannot unpack non-iterable int object"
     ]
    }
   ],
   "source": [
    "i, j, k = int(str(123))"
   ]
  },
  {
   "cell_type": "code",
   "execution_count": 1,
   "id": "f7fa0ce8-91d9-49aa-8b89-6423b4983801",
   "metadata": {},
   "outputs": [],
   "source": [
    "dictt = {'a' : {'1': 1, '3': 1}, 'b': {'max': 3}}"
   ]
  },
  {
   "cell_type": "code",
   "execution_count": 6,
   "id": "b36afdca-6dc2-4bc1-93e8-ced5251599fe",
   "metadata": {},
   "outputs": [
    {
     "data": {
      "text/plain": [
       "[1, 1]"
      ]
     },
     "execution_count": 6,
     "metadata": {},
     "output_type": "execute_result"
    }
   ],
   "source": [
    "list(dictt['a'].values())"
   ]
  },
  {
   "cell_type": "code",
   "execution_count": 33,
   "id": "57d2ad08-02ad-4724-bad9-e504598f345e",
   "metadata": {},
   "outputs": [],
   "source": [
    "for i in range(0):\n",
    "    print(i)"
   ]
  },
  {
   "cell_type": "code",
   "execution_count": 40,
   "id": "4742f6c9-c5d8-49be-b024-460c55f26621",
   "metadata": {},
   "outputs": [
    {
     "data": {
      "text/plain": [
       "array([-1, -1, -1])"
      ]
     },
     "execution_count": 40,
     "metadata": {},
     "output_type": "execute_result"
    }
   ],
   "source": [
    "A = [1, 2, 3]\n",
    "B = np.array([2, 3, 4])\n",
    "A-B"
   ]
  },
  {
   "cell_type": "code",
   "execution_count": 8,
   "id": "fa838f7c-a1c6-4764-b156-8f65ae61c157",
   "metadata": {},
   "outputs": [],
   "source": [
    "Qvals = {}\n",
    "for i in range(0, 3):\n",
    "        for j in range(0, 3):\n",
    "            for k in range(0, 3):\n",
    "                next_actions = {}\n",
    "                for l in range(i):\n",
    "                    next_actions[str(l) + str(j) + str(k)] = 0\n",
    "                for l in range(j):\n",
    "                    next_actions[str(i) + str(l) + str(k)] = 0\n",
    "                for l in range(k):\n",
    "                    next_actions[str(i) + str(j) + str(l)] = 0\n",
    "                    \n",
    "                string = str(i) + str(j) + str(k)\n",
    "                Qvals[string] = next_actions"
   ]
  },
  {
   "cell_type": "code",
   "execution_count": 11,
   "id": "f9ba4f2f-a04b-4c5e-ae76-88d50b27fdf4",
   "metadata": {},
   "outputs": [
    {
     "data": {
      "text/plain": [
       "'120'"
      ]
     },
     "execution_count": 11,
     "metadata": {},
     "output_type": "execute_result"
    }
   ],
   "source": [
    "max(Qvals['121'])"
   ]
  },
  {
   "cell_type": "code",
   "execution_count": 13,
   "id": "14ee32d3-4884-46e6-aa6b-610082865db6",
   "metadata": {},
   "outputs": [
    {
     "data": {
      "text/plain": [
       "{'021': 0, '101': 0, '111': 0, '120': 0}"
      ]
     },
     "execution_count": 13,
     "metadata": {},
     "output_type": "execute_result"
    }
   ],
   "source": [
    "Qvals['121']"
   ]
  },
  {
   "cell_type": "code",
   "execution_count": null,
   "id": "3719f188-bd9a-459a-96ee-1b9bf55156ed",
   "metadata": {},
   "outputs": [],
   "source": []
  }
 ],
 "metadata": {
  "interpreter": {
   "hash": "52af2100627e19856ff19ffeecc72f0dde92b1b054ee87d4964f694fb586b018"
  },
  "kernelspec": {
   "display_name": "Python 3.10.4 64-bit",
   "language": "python",
   "name": "python3"
  },
  "language_info": {
   "codemirror_mode": {
    "name": "ipython",
    "version": 3
   },
   "file_extension": ".py",
   "mimetype": "text/x-python",
   "name": "python",
   "nbconvert_exporter": "python",
   "pygments_lexer": "ipython3",
   "version": "3.10.4"
  }
 },
 "nbformat": 4,
 "nbformat_minor": 5
}
