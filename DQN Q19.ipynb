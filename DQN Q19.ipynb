{
 "cells": [
  {
   "cell_type": "code",
   "execution_count": 1,
   "metadata": {},
   "outputs": [],
   "source": [
    "import numpy as np\n",
    "import matplotlib\n",
    "import matplotlib.pyplot as plt\n",
    "from nim_env import NimEnv, OptimalPlayer\n",
    "import helpers as h\n",
    "\n",
    "import torch\n",
    "import WarningFunctions as wf\n",
    "\n",
    "\n",
    "# set up matplotlib\n",
    "is_ipython = 'inline' in matplotlib.get_backend()\n",
    "if is_ipython:\n",
    "    from IPython import display\n",
    "\n",
    "plt.ion()\n",
    "\n",
    "# if gpu is to be used\n",
    "device = torch.device(\"cuda\" if torch.cuda.is_available() else \"cpu\")\n",
    "\n",
    "\n",
    "#parameters\n",
    "GAMMA = 0.99\n",
    "buffer_size = 10000\n",
    "BATCH_SIZE = 64\n",
    "TARGET_UPDATE = 500\n",
    "\n",
    "\n",
    "#-------------------------------- helpers DQN ----------------------------"
   ]
  },
  {
   "cell_type": "code",
   "execution_count": 6,
   "metadata": {},
   "outputs": [],
   "source": [
    "def Q19(playerDQN : h.DQN_Player, configs = np.array([[3, 0, 0], [1, 2, 0], [0, 3, 2]]), question = 'q3-19', save = True):\n",
    "    first_heap = configs[0, :]\n",
    "    second_heap= configs[1, :]\n",
    "    third_heap = configs[2, :]\n",
    "    print(\"first config : \", first_heap )\n",
    "    qvals1 = playerDQN.predict(first_heap)\n",
    "    qvals2 = playerDQN.predict(second_heap)\n",
    "    qvals3 = playerDQN.predict(third_heap)\n",
    "    print(\"qvals1 :\", qvals1)\n",
    "    plt.imshow(qvals1)\n",
    "\n",
    "\n",
    "\n",
    "    fig, axs = plt.subplots(1, 3, figsize = (18, 6))\n",
    "    ax1 = axs[0]\n",
    "    ax2 = axs[1]\n",
    "    ax3 = axs[2]\n",
    "    len1 = len(qval[first_config])\n",
    "    len2 = len(qval[second_config])\n",
    "    len3 = len(qval[third_config])\n",
    "    tick_positions1 = np.linspace(1. / len1 , 1, len1, endpoint = False)\n",
    "    tick_positions2 = np.linspace(1. / len2 , 1, len2, endpoint = False)\n",
    "    tick_positions3 = np.linspace(1. / len3 , 1, len3, endpoint = False)\n",
    "    \n",
    "    tick_labels1 = [t for t in qval[first_config].keys()]\n",
    "    qvals1 = [q for q in qval[first_config].values()]\n",
    "    ax1.set_xticks(tick_positions1)\n",
    "    ax1.set_xticklabels(tick_labels1)\n",
    "    ax1.set_xlabel('Possible future configurations')\n",
    "    ax1.set_ylabel('Q-values')\n",
    "    ax1.set_title('Current configuration: ' + str(first_config[0]) + ' | ' + str(first_config[1]) + ' | ' + str(first_config[2]))\n",
    "    ax1.bar(tick_positions1, qvals1, width = 1. / (2 * len1))\n",
    "    \n",
    "    tick_labels2 = [t for t in qval[second_config].keys()]\n",
    "    qvals2 = [q for q in qval[second_config].values()]\n",
    "    ax2.set_xticks(tick_positions2)\n",
    "    ax2.set_xticklabels(tick_labels2)\n",
    "    ax2.set_xlabel('Possible future configurations')\n",
    "    ax2.set_ylabel('Q-values')\n",
    "    ax2.set_title('Current configuration: ' + str(second_config[0]) + ' | ' + str(second_config[1]) + ' | ' + str(second_config[2]))\n",
    "    ax2.bar(tick_positions2, qvals2, width = 1. / (2 * len2))\n",
    "    \n",
    "    tick_labels3 = [t for t in qval[third_config].keys()]\n",
    "    qvals3 = [q for q in qval[third_config].values()]\n",
    "    ax3.set_xticks(tick_positions3)\n",
    "    ax3.set_xticklabels(tick_labels3)\n",
    "    ax3.set_xlabel('Possible future configurations')\n",
    "    ax3.set_ylabel('Q-values')\n",
    "    ax3.set_title('Current configuration: ' + str(third_config[0]) + ' | ' + str(third_config[1]) + ' | ' + str(third_config[2]))\n",
    "    ax3.bar(tick_positions3, qvals3, width = 1. / (2 * len3))\n",
    "\n",
    "    if save:\n",
    "        fig.savefig('./Data/' + question + '.png')\n",
    "    "
   ]
  },
  {
   "cell_type": "code",
   "execution_count": 7,
   "metadata": {},
   "outputs": [
    {
     "name": "stdout",
     "output_type": "stream",
     "text": [
      "first config :  [3 0 0]\n",
      "first state :  tensor([0., 1., 1., 0., 0., 0., 0., 0., 0.])\n"
     ]
    }
   ],
   "source": [
    "Q19(0)"
   ]
  },
  {
   "cell_type": "code",
   "execution_count": null,
   "metadata": {},
   "outputs": [],
   "source": []
  }
 ],
 "metadata": {
  "interpreter": {
   "hash": "6aa7871422cbf9296a09eca5272ae12f42feac121f15077f0682f5d4affb8114"
  },
  "kernelspec": {
   "display_name": "Python 3.9.10 ('pytorch')",
   "language": "python",
   "name": "python3"
  },
  "language_info": {
   "codemirror_mode": {
    "name": "ipython",
    "version": 3
   },
   "file_extension": ".py",
   "mimetype": "text/x-python",
   "name": "python",
   "nbconvert_exporter": "python",
   "pygments_lexer": "ipython3",
   "version": "3.9.10"
  },
  "orig_nbformat": 4
 },
 "nbformat": 4,
 "nbformat_minor": 2
}
